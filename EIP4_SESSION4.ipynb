{
  "nbformat": 4,
  "nbformat_minor": 0,
  "metadata": {
    "colab": {
      "name": "EIP4_SESSION4.ipynb",
      "provenance": [],
      "include_colab_link": true
    },
    "kernelspec": {
      "name": "python3",
      "display_name": "Python 3"
    },
    "accelerator": "GPU"
  },
  "cells": [
    {
      "cell_type": "markdown",
      "metadata": {
        "id": "view-in-github",
        "colab_type": "text"
      },
      "source": [
        "<a href=\"https://colab.research.google.com/github/bhargav23/EIP_Session4/blob/master/EIP4_SESSION4.ipynb\" target=\"_parent\"><img src=\"https://colab.research.google.com/assets/colab-badge.svg\" alt=\"Open In Colab\"/></a>"
      ]
    },
    {
      "cell_type": "code",
      "metadata": {
        "id": "CnXs7gvOR1Ie",
        "colab_type": "code",
        "outputId": "33571b6c-9a05-4542-b402-953eddccc3c3",
        "colab": {
          "base_uri": "https://localhost:8080/",
          "height": 1000
        }
      },
      "source": [
        "from __future__ import print_function\n",
        "import keras\n",
        "from keras.layers import Dense, Conv2D, BatchNormalization, Activation\n",
        "from keras.layers import AveragePooling2D, Input, Flatten\n",
        "from keras.optimizers import Adam\n",
        "from keras.callbacks import ModelCheckpoint, LearningRateScheduler\n",
        "from keras.callbacks import ReduceLROnPlateau\n",
        "from keras.preprocessing.image import ImageDataGenerator\n",
        "from keras.regularizers import l2\n",
        "from keras import backend as K\n",
        "from keras.models import Model\n",
        "from keras.datasets import cifar10\n",
        "import numpy as np\n",
        "import os\n",
        "\n",
        "# Training parameters\n",
        "batch_size = 128  # orig paper trained all networks with batch_size=128\n",
        "epochs = 50\n",
        "data_augmentation = True\n",
        "num_classes = 10\n",
        "\n",
        "# Subtracting pixel mean improves accuracy\n",
        "subtract_pixel_mean = True\n",
        "\n",
        "# Model parameter\n",
        "# ----------------------------------------------------------------------------\n",
        "#           |      | 200-epoch | Orig Paper| 200-epoch | Orig Paper| sec/epoch\n",
        "# Model     |  n   | ResNet v1 | ResNet v1 | ResNet v2 | ResNet v2 | GTX1080Ti\n",
        "#           |v1(v2)| %Accuracy | %Accuracy | %Accuracy | %Accuracy | v1 (v2)\n",
        "# ----------------------------------------------------------------------------\n",
        "# ResNet20  | 3 (2)| 92.16     | 91.25     | -----     | -----     | 35 (---)\n",
        "# ResNet32  | 5(NA)| 92.46     | 92.49     | NA        | NA        | 50 ( NA)\n",
        "# ResNet44  | 7(NA)| 92.50     | 92.83     | NA        | NA        | 70 ( NA)\n",
        "# ResNet56  | 9 (6)| 92.71     | 93.03     | 93.01     | NA        | 90 (100)\n",
        "# ResNet110 |18(12)| 92.65     | 93.39+-.16| 93.15     | 93.63     | 165(180)\n",
        "# ResNet164 |27(18)| -----     | 94.07     | -----     | 94.54     | ---(---)\n",
        "# ResNet1001| (111)| -----     | 92.39     | -----     | 95.08+-.14| ---(---)\n",
        "# ---------------------------------------------------------------------------\n",
        "n = 3\n",
        "\n",
        "# Model version\n",
        "# Orig paper: version = 1 (ResNet v1), Improved ResNet: version = 2 (ResNet v2)\n",
        "version = 1\n",
        "\n",
        "# Computed depth from supplied model parameter n\n",
        "if version == 1:\n",
        "    depth = n * 6 + 2\n",
        "elif version == 2:\n",
        "    depth = n * 9 + 2\n",
        "\n",
        "# Model name, depth and version\n",
        "model_type = 'ResNet%dv%d' % (depth, version)\n",
        "\n",
        "# Load the CIFAR10 data.\n",
        "(x_train, y_train), (x_test, y_test) = cifar10.load_data()\n",
        "\n",
        "# Input image dimensions.\n",
        "input_shape = x_train.shape[1:]\n",
        "\n",
        "# Normalize data.\n",
        "x_train = x_train.astype('float32') / 255\n",
        "x_test = x_test.astype('float32') / 255\n",
        "\n",
        "# If subtract pixel mean is enabled\n",
        "if subtract_pixel_mean:\n",
        "    x_train_mean = np.mean(x_train, axis=0)\n",
        "    x_train -= x_train_mean\n",
        "    x_test -= x_train_mean\n",
        "\n",
        "print('x_train shape:', x_train.shape)\n",
        "print(x_train.shape[0], 'train samples')\n",
        "print(x_test.shape[0], 'test samples')\n",
        "print('y_train shape:', y_train.shape)\n",
        "\n",
        "# Convert class vectors to binary class matrices.\n",
        "y_train = keras.utils.to_categorical(y_train, num_classes)\n",
        "y_test = keras.utils.to_categorical(y_test, num_classes)\n",
        "\n",
        "\n",
        "def lr_schedule(epoch):\n",
        "    \"\"\"Learning Rate Schedule\n",
        "\n",
        "    Learning rate is scheduled to be reduced after 80, 120, 160, 180 epochs.\n",
        "    Called automatically every epoch as part of callbacks during training.\n",
        "\n",
        "    # Arguments\n",
        "        epoch (int): The number of epochs\n",
        "\n",
        "    # Returns\n",
        "        lr (float32): learning rate\n",
        "    \"\"\"\n",
        "    lr = 1e-3\n",
        "    if epoch > 45:\n",
        "        lr *= 0.5e-3\n",
        "    elif epoch > 40:\n",
        "        lr *= 1e-3\n",
        "    elif epoch > 35:\n",
        "        lr *= 1e-2\n",
        "    elif epoch > 30:\n",
        "        lr *= 1e-1\n",
        "    print('Learning rate: ', lr)\n",
        "    return lr\n",
        "\n",
        "\n",
        "def resnet_layer(inputs,\n",
        "                 num_filters=16,\n",
        "                 kernel_size=3,\n",
        "                 strides=1,\n",
        "                 activation='relu',\n",
        "                 batch_normalization=True,\n",
        "                 conv_first=True):\n",
        "    \"\"\"2D Convolution-Batch Normalization-Activation stack builder\n",
        "\n",
        "    # Arguments\n",
        "        inputs (tensor): input tensor from input image or previous layer\n",
        "        num_filters (int): Conv2D number of filters\n",
        "        kernel_size (int): Conv2D square kernel dimensions\n",
        "        strides (int): Conv2D square stride dimensions\n",
        "        activation (string): activation name\n",
        "        batch_normalization (bool): whether to include batch normalization\n",
        "        conv_first (bool): conv-bn-activation (True) or\n",
        "            bn-activation-conv (False)\n",
        "\n",
        "    # Returns\n",
        "        x (tensor): tensor as input to the next layer\n",
        "    \"\"\"\n",
        "    conv = Conv2D(num_filters,\n",
        "                  kernel_size=kernel_size,\n",
        "                  strides=strides,\n",
        "                  padding='same',\n",
        "                  kernel_initializer='he_normal',\n",
        "                  kernel_regularizer=l2(1e-4))\n",
        "\n",
        "    x = inputs\n",
        "    if conv_first:\n",
        "        x = conv(x)\n",
        "        if batch_normalization:\n",
        "            x = BatchNormalization()(x)\n",
        "        if activation is not None:\n",
        "            x = Activation(activation)(x)\n",
        "    else:\n",
        "        if batch_normalization:\n",
        "            x = BatchNormalization()(x)\n",
        "        if activation is not None:\n",
        "            x = Activation(activation)(x)\n",
        "        x = conv(x)\n",
        "    return x\n",
        "\n",
        "\n",
        "def resnet_v1(input_shape, depth, num_classes=10):\n",
        "    \"\"\"ResNet Version 1 Model builder [a]\n",
        "\n",
        "    Stacks of 2 x (3 x 3) Conv2D-BN-ReLU\n",
        "    Last ReLU is after the shortcut connection.\n",
        "    At the beginning of each stage, the feature map size is halved (downsampled)\n",
        "    by a convolutional layer with strides=2, while the number of filters is\n",
        "    doubled. Within each stage, the layers have the same number filters and the\n",
        "    same number of filters.\n",
        "    Features maps sizes:\n",
        "    stage 0: 32x32, 16\n",
        "    stage 1: 16x16, 32\n",
        "    stage 2:  8x8,  64\n",
        "    The Number of parameters is approx the same as Table 6 of [a]:\n",
        "    ResNet20 0.27M\n",
        "    ResNet32 0.46M\n",
        "    ResNet44 0.66M\n",
        "    ResNet56 0.85M\n",
        "    ResNet110 1.7M\n",
        "\n",
        "    # Arguments\n",
        "        input_shape (tensor): shape of input image tensor\n",
        "        depth (int): number of core convolutional layers\n",
        "        num_classes (int): number of classes (CIFAR10 has 10)\n",
        "\n",
        "    # Returns\n",
        "        model (Model): Keras model instance\n",
        "    \"\"\"\n",
        "    if (depth - 2) % 6 != 0:\n",
        "        raise ValueError('depth should be 6n+2 (eg 20, 32, 44 in [a])')\n",
        "    # Start model definition.\n",
        "    num_filters = 16\n",
        "    num_res_blocks = int((depth - 2) / 6)\n",
        "\n",
        "    inputs = Input(shape=input_shape)\n",
        "    x = resnet_layer(inputs=inputs)\n",
        "    # Instantiate the stack of residual units\n",
        "    for stack in range(3):\n",
        "        for res_block in range(num_res_blocks):\n",
        "            strides = 1\n",
        "            if stack > 0 and res_block == 0:  # first layer but not first stack\n",
        "                strides = 2  # downsample\n",
        "            y = resnet_layer(inputs=x,\n",
        "                             num_filters=num_filters,\n",
        "                             strides=strides)\n",
        "            y = resnet_layer(inputs=y,\n",
        "                             num_filters=num_filters,\n",
        "                             activation=None)\n",
        "            if stack > 0 and res_block == 0:  # first layer but not first stack\n",
        "                # linear projection residual shortcut connection to match\n",
        "                # changed dims\n",
        "                x = resnet_layer(inputs=x,\n",
        "                                 num_filters=num_filters,\n",
        "                                 kernel_size=1,\n",
        "                                 strides=strides,\n",
        "                                 activation=None,\n",
        "                                 batch_normalization=False)\n",
        "            x = keras.layers.add([x, y])\n",
        "            x = Activation('relu')(x)\n",
        "        num_filters *= 2\n",
        "\n",
        "    # Add classifier on top.\n",
        "    # v1 does not use BN after last shortcut connection-ReLU\n",
        "    x = AveragePooling2D(pool_size=8)(x)\n",
        "    y = Flatten()(x)\n",
        "    outputs = Dense(num_classes,\n",
        "                    activation='softmax',\n",
        "                    kernel_initializer='he_normal')(y)\n",
        "\n",
        "    # Instantiate model.\n",
        "    model = Model(inputs=inputs, outputs=outputs)\n",
        "    return model\n",
        "\n",
        "\n",
        "def resnet_v2(input_shape, depth, num_classes=10):\n",
        "    \"\"\"ResNet Version 2 Model builder [b]\n",
        "\n",
        "    Stacks of (1 x 1)-(3 x 3)-(1 x 1) BN-ReLU-Conv2D or also known as\n",
        "    bottleneck layer\n",
        "    First shortcut connection per layer is 1 x 1 Conv2D.\n",
        "    Second and onwards shortcut connection is identity.\n",
        "    At the beginning of each stage, the feature map size is halved (downsampled)\n",
        "    by a convolutional layer with strides=2, while the number of filter maps is\n",
        "    doubled. Within each stage, the layers have the same number filters and the\n",
        "    same filter map sizes.\n",
        "    Features maps sizes:\n",
        "    conv1  : 32x32,  16\n",
        "    stage 0: 32x32,  64\n",
        "    stage 1: 16x16, 128\n",
        "    stage 2:  8x8,  256\n",
        "\n",
        "    # Arguments\n",
        "        input_shape (tensor): shape of input image tensor\n",
        "        depth (int): number of core convolutional layers\n",
        "        num_classes (int): number of classes (CIFAR10 has 10)\n",
        "\n",
        "    # Returns\n",
        "        model (Model): Keras model instance\n",
        "    \"\"\"\n",
        "    if (depth - 2) % 9 != 0:\n",
        "        raise ValueError('depth should be 9n+2 (eg 56 or 110 in [b])')\n",
        "    # Start model definition.\n",
        "    num_filters_in = 16\n",
        "    num_res_blocks = int((depth - 2) / 9)\n",
        "\n",
        "    inputs = Input(shape=input_shape)\n",
        "    # v2 performs Conv2D with BN-ReLU on input before splitting into 2 paths\n",
        "    x = resnet_layer(inputs=inputs,\n",
        "                     num_filters=num_filters_in,\n",
        "                     conv_first=True)\n",
        "\n",
        "    # Instantiate the stack of residual units\n",
        "    for stage in range(3):\n",
        "        for res_block in range(num_res_blocks):\n",
        "            activation = 'relu'\n",
        "            batch_normalization = True\n",
        "            strides = 1\n",
        "            if stage == 0:\n",
        "                num_filters_out = num_filters_in * 4\n",
        "                if res_block == 0:  # first layer and first stage\n",
        "                    activation = None\n",
        "                    batch_normalization = False\n",
        "            else:\n",
        "                num_filters_out = num_filters_in * 2\n",
        "                if res_block == 0:  # first layer but not first stage\n",
        "                    strides = 2    # downsample\n",
        "\n",
        "            # bottleneck residual unit\n",
        "            y = resnet_layer(inputs=x,\n",
        "                             num_filters=num_filters_in,\n",
        "                             kernel_size=1,\n",
        "                             strides=strides,\n",
        "                             activation=activation,\n",
        "                             batch_normalization=batch_normalization,\n",
        "                             conv_first=False)\n",
        "            y = resnet_layer(inputs=y,\n",
        "                             num_filters=num_filters_in,\n",
        "                             conv_first=False)\n",
        "            y = resnet_layer(inputs=y,\n",
        "                             num_filters=num_filters_out,\n",
        "                             kernel_size=1,\n",
        "                             conv_first=False)\n",
        "            if res_block == 0:\n",
        "                # linear projection residual shortcut connection to match\n",
        "                # changed dims\n",
        "                x = resnet_layer(inputs=x,\n",
        "                                 num_filters=num_filters_out,\n",
        "                                 kernel_size=1,\n",
        "                                 strides=strides,\n",
        "                                 activation=None,\n",
        "                                 batch_normalization=False)\n",
        "            x = keras.layers.add([x, y])\n",
        "\n",
        "        num_filters_in = num_filters_out\n",
        "\n",
        "    # Add classifier on top.\n",
        "    # v2 has BN-ReLU before Pooling\n",
        "    x = BatchNormalization()(x)\n",
        "    x = Activation('relu')(x)\n",
        "    x = AveragePooling2D(pool_size=8)(x)\n",
        "    y = Flatten()(x)\n",
        "    outputs = Dense(num_classes,\n",
        "                    activation='softmax',\n",
        "                    kernel_initializer='he_normal')(y)\n",
        "\n",
        "    # Instantiate model.\n",
        "    model = Model(inputs=inputs, outputs=outputs)\n",
        "    return model\n",
        "\n",
        "\n",
        "if version == 2:\n",
        "    model = resnet_v2(input_shape=input_shape, depth=depth)\n",
        "else:\n",
        "    model = resnet_v1(input_shape=input_shape, depth=depth)\n",
        "\n",
        "model.compile(loss='categorical_crossentropy',\n",
        "              optimizer=Adam(lr=lr_schedule(0)),\n",
        "              metrics=['accuracy'])\n",
        "model.summary()\n",
        "print(model_type)\n",
        "\n",
        "# Prepare model model saving directory.\n",
        "save_dir = os.path.join(os.getcwd(), 'saved_models')\n",
        "model_name = 'cifar10_%s_model.{epoch:03d}.h5' % model_type\n",
        "if not os.path.isdir(save_dir):\n",
        "    os.makedirs(save_dir)\n",
        "filepath = os.path.join(save_dir, model_name)\n",
        "\n",
        "# Prepare callbacks for model saving and for learning rate adjustment.\n",
        "checkpoint = ModelCheckpoint(filepath=filepath,\n",
        "                             monitor='val_acc',\n",
        "                             verbose=1,\n",
        "                             save_best_only=True)\n",
        "\n",
        "lr_scheduler = LearningRateScheduler(lr_schedule)\n",
        "\n",
        "lr_reducer = ReduceLROnPlateau(factor=np.sqrt(0.1),\n",
        "                               cooldown=0,\n",
        "                               patience=5,\n",
        "                               min_lr=0.5e-6)\n",
        "\n",
        "callbacks = [checkpoint, lr_reducer, lr_scheduler]\n",
        "\n",
        "# Run training, with or without data augmentation.\n",
        "if not data_augmentation:\n",
        "    print('Not using data augmentation.')\n",
        "    model.fit(x_train, y_train,\n",
        "              batch_size=batch_size,\n",
        "              epochs=epochs,\n",
        "              validation_data=(x_test, y_test),\n",
        "              shuffle=True,\n",
        "              callbacks=callbacks)\n",
        "else:\n",
        "    print('Using real-time data augmentation.')\n",
        "    # This will do preprocessing and realtime data augmentation:\n",
        "    datagen = ImageDataGenerator(\n",
        "        # set input mean to 0 over the dataset\n",
        "        featurewise_center=False,\n",
        "        # set each sample mean to 0\n",
        "        samplewise_center=False,\n",
        "        # divide inputs by std of dataset\n",
        "        featurewise_std_normalization=False,\n",
        "        # divide each input by its std\n",
        "        samplewise_std_normalization=False,\n",
        "        # apply ZCA whitening\n",
        "        zca_whitening=False,\n",
        "        # epsilon for ZCA whitening\n",
        "        zca_epsilon=1e-06,\n",
        "        # randomly rotate images in the range (deg 0 to 180)\n",
        "        rotation_range=0,\n",
        "        # randomly shift images horizontally\n",
        "        width_shift_range=0.1,\n",
        "        # randomly shift images vertically\n",
        "        height_shift_range=0.1,\n",
        "        # set range for random shear\n",
        "        shear_range=0.,\n",
        "        # set range for random zoom\n",
        "        zoom_range=0.,\n",
        "        # set range for random channel shifts\n",
        "        channel_shift_range=0.,\n",
        "        # set mode for filling points outside the input boundaries\n",
        "        fill_mode='nearest',\n",
        "        # value used for fill_mode = \"constant\"\n",
        "        cval=0.,\n",
        "        # randomly flip images\n",
        "        horizontal_flip=True,\n",
        "        # randomly flip images\n",
        "        vertical_flip=False,\n",
        "        # set rescaling factor (applied before any other transformation)\n",
        "        rescale=None,\n",
        "        # set function that will be applied on each input\n",
        "        preprocessing_function=None,\n",
        "        # image data format, either \"channels_first\" or \"channels_last\"\n",
        "        data_format=None,\n",
        "        # fraction of images reserved for validation (strictly between 0 and 1)\n",
        "        validation_split=0.0)\n",
        "\n",
        "    # Compute quantities required for featurewise normalization\n",
        "    # (std, mean, and principal components if ZCA whitening is applied).\n",
        "    datagen.fit(x_train)\n",
        "\n",
        "    # Fit the model on the batches generated by datagen.flow().\n",
        "    model.fit_generator(datagen.flow(x_train, y_train, batch_size=batch_size),\n",
        "                        validation_data=(x_test, y_test),\n",
        "                        epochs=epochs, verbose=1, workers=4,\n",
        "                        callbacks=callbacks)\n",
        "\n",
        "# Score trained model.\n",
        "scores = model.evaluate(x_test, y_test, verbose=1)\n",
        "print('Test loss:', scores[0])\n",
        "print('Test accuracy:', scores[1])"
      ],
      "execution_count": 2,
      "outputs": [
        {
          "output_type": "stream",
          "text": [
            "x_train shape: (50000, 32, 32, 3)\n",
            "50000 train samples\n",
            "10000 test samples\n",
            "y_train shape: (50000, 1)\n",
            "Learning rate:  0.001\n",
            "Model: \"model_2\"\n",
            "__________________________________________________________________________________________________\n",
            "Layer (type)                    Output Shape         Param #     Connected to                     \n",
            "==================================================================================================\n",
            "input_2 (InputLayer)            (None, 32, 32, 3)    0                                            \n",
            "__________________________________________________________________________________________________\n",
            "conv2d_22 (Conv2D)              (None, 32, 32, 16)   448         input_2[0][0]                    \n",
            "__________________________________________________________________________________________________\n",
            "batch_normalization_20 (BatchNo (None, 32, 32, 16)   64          conv2d_22[0][0]                  \n",
            "__________________________________________________________________________________________________\n",
            "activation_20 (Activation)      (None, 32, 32, 16)   0           batch_normalization_20[0][0]     \n",
            "__________________________________________________________________________________________________\n",
            "conv2d_23 (Conv2D)              (None, 32, 32, 16)   2320        activation_20[0][0]              \n",
            "__________________________________________________________________________________________________\n",
            "batch_normalization_21 (BatchNo (None, 32, 32, 16)   64          conv2d_23[0][0]                  \n",
            "__________________________________________________________________________________________________\n",
            "activation_21 (Activation)      (None, 32, 32, 16)   0           batch_normalization_21[0][0]     \n",
            "__________________________________________________________________________________________________\n",
            "conv2d_24 (Conv2D)              (None, 32, 32, 16)   2320        activation_21[0][0]              \n",
            "__________________________________________________________________________________________________\n",
            "batch_normalization_22 (BatchNo (None, 32, 32, 16)   64          conv2d_24[0][0]                  \n",
            "__________________________________________________________________________________________________\n",
            "add_10 (Add)                    (None, 32, 32, 16)   0           activation_20[0][0]              \n",
            "                                                                 batch_normalization_22[0][0]     \n",
            "__________________________________________________________________________________________________\n",
            "activation_22 (Activation)      (None, 32, 32, 16)   0           add_10[0][0]                     \n",
            "__________________________________________________________________________________________________\n",
            "conv2d_25 (Conv2D)              (None, 32, 32, 16)   2320        activation_22[0][0]              \n",
            "__________________________________________________________________________________________________\n",
            "batch_normalization_23 (BatchNo (None, 32, 32, 16)   64          conv2d_25[0][0]                  \n",
            "__________________________________________________________________________________________________\n",
            "activation_23 (Activation)      (None, 32, 32, 16)   0           batch_normalization_23[0][0]     \n",
            "__________________________________________________________________________________________________\n",
            "conv2d_26 (Conv2D)              (None, 32, 32, 16)   2320        activation_23[0][0]              \n",
            "__________________________________________________________________________________________________\n",
            "batch_normalization_24 (BatchNo (None, 32, 32, 16)   64          conv2d_26[0][0]                  \n",
            "__________________________________________________________________________________________________\n",
            "add_11 (Add)                    (None, 32, 32, 16)   0           activation_22[0][0]              \n",
            "                                                                 batch_normalization_24[0][0]     \n",
            "__________________________________________________________________________________________________\n",
            "activation_24 (Activation)      (None, 32, 32, 16)   0           add_11[0][0]                     \n",
            "__________________________________________________________________________________________________\n",
            "conv2d_27 (Conv2D)              (None, 32, 32, 16)   2320        activation_24[0][0]              \n",
            "__________________________________________________________________________________________________\n",
            "batch_normalization_25 (BatchNo (None, 32, 32, 16)   64          conv2d_27[0][0]                  \n",
            "__________________________________________________________________________________________________\n",
            "activation_25 (Activation)      (None, 32, 32, 16)   0           batch_normalization_25[0][0]     \n",
            "__________________________________________________________________________________________________\n",
            "conv2d_28 (Conv2D)              (None, 32, 32, 16)   2320        activation_25[0][0]              \n",
            "__________________________________________________________________________________________________\n",
            "batch_normalization_26 (BatchNo (None, 32, 32, 16)   64          conv2d_28[0][0]                  \n",
            "__________________________________________________________________________________________________\n",
            "add_12 (Add)                    (None, 32, 32, 16)   0           activation_24[0][0]              \n",
            "                                                                 batch_normalization_26[0][0]     \n",
            "__________________________________________________________________________________________________\n",
            "activation_26 (Activation)      (None, 32, 32, 16)   0           add_12[0][0]                     \n",
            "__________________________________________________________________________________________________\n",
            "conv2d_29 (Conv2D)              (None, 16, 16, 32)   4640        activation_26[0][0]              \n",
            "__________________________________________________________________________________________________\n",
            "batch_normalization_27 (BatchNo (None, 16, 16, 32)   128         conv2d_29[0][0]                  \n",
            "__________________________________________________________________________________________________\n",
            "activation_27 (Activation)      (None, 16, 16, 32)   0           batch_normalization_27[0][0]     \n",
            "__________________________________________________________________________________________________\n",
            "conv2d_30 (Conv2D)              (None, 16, 16, 32)   9248        activation_27[0][0]              \n",
            "__________________________________________________________________________________________________\n",
            "conv2d_31 (Conv2D)              (None, 16, 16, 32)   544         activation_26[0][0]              \n",
            "__________________________________________________________________________________________________\n",
            "batch_normalization_28 (BatchNo (None, 16, 16, 32)   128         conv2d_30[0][0]                  \n",
            "__________________________________________________________________________________________________\n",
            "add_13 (Add)                    (None, 16, 16, 32)   0           conv2d_31[0][0]                  \n",
            "                                                                 batch_normalization_28[0][0]     \n",
            "__________________________________________________________________________________________________\n",
            "activation_28 (Activation)      (None, 16, 16, 32)   0           add_13[0][0]                     \n",
            "__________________________________________________________________________________________________\n",
            "conv2d_32 (Conv2D)              (None, 16, 16, 32)   9248        activation_28[0][0]              \n",
            "__________________________________________________________________________________________________\n",
            "batch_normalization_29 (BatchNo (None, 16, 16, 32)   128         conv2d_32[0][0]                  \n",
            "__________________________________________________________________________________________________\n",
            "activation_29 (Activation)      (None, 16, 16, 32)   0           batch_normalization_29[0][0]     \n",
            "__________________________________________________________________________________________________\n",
            "conv2d_33 (Conv2D)              (None, 16, 16, 32)   9248        activation_29[0][0]              \n",
            "__________________________________________________________________________________________________\n",
            "batch_normalization_30 (BatchNo (None, 16, 16, 32)   128         conv2d_33[0][0]                  \n",
            "__________________________________________________________________________________________________\n",
            "add_14 (Add)                    (None, 16, 16, 32)   0           activation_28[0][0]              \n",
            "                                                                 batch_normalization_30[0][0]     \n",
            "__________________________________________________________________________________________________\n",
            "activation_30 (Activation)      (None, 16, 16, 32)   0           add_14[0][0]                     \n",
            "__________________________________________________________________________________________________\n",
            "conv2d_34 (Conv2D)              (None, 16, 16, 32)   9248        activation_30[0][0]              \n",
            "__________________________________________________________________________________________________\n",
            "batch_normalization_31 (BatchNo (None, 16, 16, 32)   128         conv2d_34[0][0]                  \n",
            "__________________________________________________________________________________________________\n",
            "activation_31 (Activation)      (None, 16, 16, 32)   0           batch_normalization_31[0][0]     \n",
            "__________________________________________________________________________________________________\n",
            "conv2d_35 (Conv2D)              (None, 16, 16, 32)   9248        activation_31[0][0]              \n",
            "__________________________________________________________________________________________________\n",
            "batch_normalization_32 (BatchNo (None, 16, 16, 32)   128         conv2d_35[0][0]                  \n",
            "__________________________________________________________________________________________________\n",
            "add_15 (Add)                    (None, 16, 16, 32)   0           activation_30[0][0]              \n",
            "                                                                 batch_normalization_32[0][0]     \n",
            "__________________________________________________________________________________________________\n",
            "activation_32 (Activation)      (None, 16, 16, 32)   0           add_15[0][0]                     \n",
            "__________________________________________________________________________________________________\n",
            "conv2d_36 (Conv2D)              (None, 8, 8, 64)     18496       activation_32[0][0]              \n",
            "__________________________________________________________________________________________________\n",
            "batch_normalization_33 (BatchNo (None, 8, 8, 64)     256         conv2d_36[0][0]                  \n",
            "__________________________________________________________________________________________________\n",
            "activation_33 (Activation)      (None, 8, 8, 64)     0           batch_normalization_33[0][0]     \n",
            "__________________________________________________________________________________________________\n",
            "conv2d_37 (Conv2D)              (None, 8, 8, 64)     36928       activation_33[0][0]              \n",
            "__________________________________________________________________________________________________\n",
            "conv2d_38 (Conv2D)              (None, 8, 8, 64)     2112        activation_32[0][0]              \n",
            "__________________________________________________________________________________________________\n",
            "batch_normalization_34 (BatchNo (None, 8, 8, 64)     256         conv2d_37[0][0]                  \n",
            "__________________________________________________________________________________________________\n",
            "add_16 (Add)                    (None, 8, 8, 64)     0           conv2d_38[0][0]                  \n",
            "                                                                 batch_normalization_34[0][0]     \n",
            "__________________________________________________________________________________________________\n",
            "activation_34 (Activation)      (None, 8, 8, 64)     0           add_16[0][0]                     \n",
            "__________________________________________________________________________________________________\n",
            "conv2d_39 (Conv2D)              (None, 8, 8, 64)     36928       activation_34[0][0]              \n",
            "__________________________________________________________________________________________________\n",
            "batch_normalization_35 (BatchNo (None, 8, 8, 64)     256         conv2d_39[0][0]                  \n",
            "__________________________________________________________________________________________________\n",
            "activation_35 (Activation)      (None, 8, 8, 64)     0           batch_normalization_35[0][0]     \n",
            "__________________________________________________________________________________________________\n",
            "conv2d_40 (Conv2D)              (None, 8, 8, 64)     36928       activation_35[0][0]              \n",
            "__________________________________________________________________________________________________\n",
            "batch_normalization_36 (BatchNo (None, 8, 8, 64)     256         conv2d_40[0][0]                  \n",
            "__________________________________________________________________________________________________\n",
            "add_17 (Add)                    (None, 8, 8, 64)     0           activation_34[0][0]              \n",
            "                                                                 batch_normalization_36[0][0]     \n",
            "__________________________________________________________________________________________________\n",
            "activation_36 (Activation)      (None, 8, 8, 64)     0           add_17[0][0]                     \n",
            "__________________________________________________________________________________________________\n",
            "conv2d_41 (Conv2D)              (None, 8, 8, 64)     36928       activation_36[0][0]              \n",
            "__________________________________________________________________________________________________\n",
            "batch_normalization_37 (BatchNo (None, 8, 8, 64)     256         conv2d_41[0][0]                  \n",
            "__________________________________________________________________________________________________\n",
            "activation_37 (Activation)      (None, 8, 8, 64)     0           batch_normalization_37[0][0]     \n",
            "__________________________________________________________________________________________________\n",
            "conv2d_42 (Conv2D)              (None, 8, 8, 64)     36928       activation_37[0][0]              \n",
            "__________________________________________________________________________________________________\n",
            "batch_normalization_38 (BatchNo (None, 8, 8, 64)     256         conv2d_42[0][0]                  \n",
            "__________________________________________________________________________________________________\n",
            "add_18 (Add)                    (None, 8, 8, 64)     0           activation_36[0][0]              \n",
            "                                                                 batch_normalization_38[0][0]     \n",
            "__________________________________________________________________________________________________\n",
            "activation_38 (Activation)      (None, 8, 8, 64)     0           add_18[0][0]                     \n",
            "__________________________________________________________________________________________________\n",
            "average_pooling2d_2 (AveragePoo (None, 1, 1, 64)     0           activation_38[0][0]              \n",
            "__________________________________________________________________________________________________\n",
            "flatten_2 (Flatten)             (None, 64)           0           average_pooling2d_2[0][0]        \n",
            "__________________________________________________________________________________________________\n",
            "dense_2 (Dense)                 (None, 10)           650         flatten_2[0][0]                  \n",
            "==================================================================================================\n",
            "Total params: 274,442\n",
            "Trainable params: 273,066\n",
            "Non-trainable params: 1,376\n",
            "__________________________________________________________________________________________________\n",
            "ResNet20v1\n",
            "Using real-time data augmentation.\n",
            "Epoch 1/50\n",
            "Learning rate:  0.001\n",
            "391/391 [==============================] - 56s 144ms/step - loss: 1.6369 - acc: 0.4606 - val_loss: 1.8128 - val_acc: 0.4499\n",
            "\n",
            "Epoch 00001: val_acc improved from -inf to 0.44990, saving model to /content/saved_models/cifar10_ResNet20v1_model.001.h5\n",
            "Epoch 2/50\n",
            "Learning rate:  0.001\n",
            "391/391 [==============================] - 49s 125ms/step - loss: 1.2909 - acc: 0.5897 - val_loss: 1.4262 - val_acc: 0.5400\n",
            "\n",
            "Epoch 00002: val_acc improved from 0.44990 to 0.54000, saving model to /content/saved_models/cifar10_ResNet20v1_model.002.h5\n",
            "Epoch 3/50\n",
            "Learning rate:  0.001\n",
            "391/391 [==============================] - 48s 123ms/step - loss: 1.1324 - acc: 0.6537 - val_loss: 1.3230 - val_acc: 0.6104\n",
            "\n",
            "Epoch 00003: val_acc improved from 0.54000 to 0.61040, saving model to /content/saved_models/cifar10_ResNet20v1_model.003.h5\n",
            "Epoch 4/50\n",
            "Learning rate:  0.001\n",
            "391/391 [==============================] - 48s 124ms/step - loss: 1.0137 - acc: 0.6958 - val_loss: 1.3449 - val_acc: 0.5995\n",
            "\n",
            "Epoch 00004: val_acc did not improve from 0.61040\n",
            "Epoch 5/50\n",
            "Learning rate:  0.001\n",
            "391/391 [==============================] - 48s 124ms/step - loss: 0.9311 - acc: 0.7217 - val_loss: 1.2290 - val_acc: 0.6456\n",
            "\n",
            "Epoch 00005: val_acc improved from 0.61040 to 0.64560, saving model to /content/saved_models/cifar10_ResNet20v1_model.005.h5\n",
            "Epoch 6/50\n",
            "Learning rate:  0.001\n",
            "391/391 [==============================] - 49s 124ms/step - loss: 0.8665 - acc: 0.7475 - val_loss: 0.9733 - val_acc: 0.7220\n",
            "\n",
            "Epoch 00006: val_acc improved from 0.64560 to 0.72200, saving model to /content/saved_models/cifar10_ResNet20v1_model.006.h5\n",
            "Epoch 7/50\n",
            "Learning rate:  0.001\n",
            "391/391 [==============================] - 49s 125ms/step - loss: 0.8128 - acc: 0.7663 - val_loss: 1.0421 - val_acc: 0.6866\n",
            "\n",
            "Epoch 00007: val_acc did not improve from 0.72200\n",
            "Epoch 8/50\n",
            "Learning rate:  0.001\n",
            "391/391 [==============================] - 48s 124ms/step - loss: 0.7808 - acc: 0.7810 - val_loss: 1.1365 - val_acc: 0.6720\n",
            "\n",
            "Epoch 00008: val_acc did not improve from 0.72200\n",
            "Epoch 9/50\n",
            "Learning rate:  0.001\n",
            "391/391 [==============================] - 48s 123ms/step - loss: 0.7404 - acc: 0.7940 - val_loss: 0.9830 - val_acc: 0.7226\n",
            "\n",
            "Epoch 00009: val_acc improved from 0.72200 to 0.72260, saving model to /content/saved_models/cifar10_ResNet20v1_model.009.h5\n",
            "Epoch 10/50\n",
            "Learning rate:  0.001\n",
            "391/391 [==============================] - 48s 124ms/step - loss: 0.7079 - acc: 0.8052 - val_loss: 0.9860 - val_acc: 0.7210\n",
            "\n",
            "Epoch 00010: val_acc did not improve from 0.72260\n",
            "Epoch 11/50\n",
            "Learning rate:  0.001\n",
            "391/391 [==============================] - 48s 124ms/step - loss: 0.6851 - acc: 0.8146 - val_loss: 0.8992 - val_acc: 0.7411\n",
            "\n",
            "Epoch 00011: val_acc improved from 0.72260 to 0.74110, saving model to /content/saved_models/cifar10_ResNet20v1_model.011.h5\n",
            "Epoch 12/50\n",
            "Learning rate:  0.001\n",
            "391/391 [==============================] - 49s 125ms/step - loss: 0.6587 - acc: 0.8224 - val_loss: 0.8901 - val_acc: 0.7558\n",
            "\n",
            "Epoch 00012: val_acc improved from 0.74110 to 0.75580, saving model to /content/saved_models/cifar10_ResNet20v1_model.012.h5\n",
            "Epoch 13/50\n",
            "Learning rate:  0.001\n",
            "391/391 [==============================] - 48s 124ms/step - loss: 0.6385 - acc: 0.8288 - val_loss: 0.8427 - val_acc: 0.7760\n",
            "\n",
            "Epoch 00013: val_acc improved from 0.75580 to 0.77600, saving model to /content/saved_models/cifar10_ResNet20v1_model.013.h5\n",
            "Epoch 14/50\n",
            "Learning rate:  0.001\n",
            "391/391 [==============================] - 48s 124ms/step - loss: 0.6205 - acc: 0.8359 - val_loss: 0.8945 - val_acc: 0.7513\n",
            "\n",
            "Epoch 00014: val_acc did not improve from 0.77600\n",
            "Epoch 15/50\n",
            "Learning rate:  0.001\n",
            "391/391 [==============================] - 49s 124ms/step - loss: 0.6078 - acc: 0.8385 - val_loss: 1.0330 - val_acc: 0.7274\n",
            "\n",
            "Epoch 00015: val_acc did not improve from 0.77600\n",
            "Epoch 16/50\n",
            "Learning rate:  0.001\n",
            "391/391 [==============================] - 48s 124ms/step - loss: 0.5927 - acc: 0.8466 - val_loss: 0.7848 - val_acc: 0.7891\n",
            "\n",
            "Epoch 00016: val_acc improved from 0.77600 to 0.78910, saving model to /content/saved_models/cifar10_ResNet20v1_model.016.h5\n",
            "Epoch 17/50\n",
            "Learning rate:  0.001\n",
            "391/391 [==============================] - 48s 123ms/step - loss: 0.5759 - acc: 0.8514 - val_loss: 0.7282 - val_acc: 0.8010\n",
            "\n",
            "Epoch 00017: val_acc improved from 0.78910 to 0.80100, saving model to /content/saved_models/cifar10_ResNet20v1_model.017.h5\n",
            "Epoch 18/50\n",
            "Learning rate:  0.001\n",
            "391/391 [==============================] - 49s 125ms/step - loss: 0.5690 - acc: 0.8539 - val_loss: 0.8725 - val_acc: 0.7722\n",
            "\n",
            "Epoch 00018: val_acc did not improve from 0.80100\n",
            "Epoch 19/50\n",
            "Learning rate:  0.001\n",
            "391/391 [==============================] - 48s 124ms/step - loss: 0.5554 - acc: 0.8591 - val_loss: 0.7354 - val_acc: 0.8036\n",
            "\n",
            "Epoch 00019: val_acc improved from 0.80100 to 0.80360, saving model to /content/saved_models/cifar10_ResNet20v1_model.019.h5\n",
            "Epoch 20/50\n",
            "Learning rate:  0.001\n",
            "391/391 [==============================] - 49s 124ms/step - loss: 0.5456 - acc: 0.8626 - val_loss: 0.7935 - val_acc: 0.7913\n",
            "\n",
            "Epoch 00020: val_acc did not improve from 0.80360\n",
            "Epoch 21/50\n",
            "Learning rate:  0.001\n",
            "391/391 [==============================] - 48s 123ms/step - loss: 0.5361 - acc: 0.8644 - val_loss: 0.8619 - val_acc: 0.7773\n",
            "\n",
            "Epoch 00021: val_acc did not improve from 0.80360\n",
            "Epoch 22/50\n",
            "Learning rate:  0.001\n",
            "391/391 [==============================] - 48s 123ms/step - loss: 0.5285 - acc: 0.8675 - val_loss: 0.9466 - val_acc: 0.7565\n",
            "\n",
            "Epoch 00022: val_acc did not improve from 0.80360\n",
            "Epoch 23/50\n",
            "Learning rate:  0.001\n",
            "391/391 [==============================] - 49s 124ms/step - loss: 0.5185 - acc: 0.8716 - val_loss: 1.1343 - val_acc: 0.7057\n",
            "\n",
            "Epoch 00023: val_acc did not improve from 0.80360\n",
            "Epoch 24/50\n",
            "Learning rate:  0.001\n",
            "391/391 [==============================] - 48s 123ms/step - loss: 0.5097 - acc: 0.8747 - val_loss: 0.8518 - val_acc: 0.7809\n",
            "\n",
            "Epoch 00024: val_acc did not improve from 0.80360\n",
            "Epoch 25/50\n",
            "Learning rate:  0.001\n",
            "391/391 [==============================] - 48s 123ms/step - loss: 0.5089 - acc: 0.8753 - val_loss: 0.6822 - val_acc: 0.8260\n",
            "\n",
            "Epoch 00025: val_acc improved from 0.80360 to 0.82600, saving model to /content/saved_models/cifar10_ResNet20v1_model.025.h5\n",
            "Epoch 26/50\n",
            "Learning rate:  0.001\n",
            "391/391 [==============================] - 48s 122ms/step - loss: 0.4935 - acc: 0.8787 - val_loss: 0.7312 - val_acc: 0.8131\n",
            "\n",
            "Epoch 00026: val_acc did not improve from 0.82600\n",
            "Epoch 27/50\n",
            "Learning rate:  0.001\n",
            "391/391 [==============================] - 48s 123ms/step - loss: 0.4957 - acc: 0.8788 - val_loss: 0.7246 - val_acc: 0.8131\n",
            "\n",
            "Epoch 00027: val_acc did not improve from 0.82600\n",
            "Epoch 28/50\n",
            "Learning rate:  0.001\n",
            "391/391 [==============================] - 48s 122ms/step - loss: 0.4861 - acc: 0.8829 - val_loss: 0.7831 - val_acc: 0.8028\n",
            "\n",
            "Epoch 00028: val_acc did not improve from 0.82600\n",
            "Epoch 29/50\n",
            "Learning rate:  0.001\n",
            "391/391 [==============================] - 49s 124ms/step - loss: 0.4782 - acc: 0.8848 - val_loss: 0.7661 - val_acc: 0.8108\n",
            "\n",
            "Epoch 00029: val_acc did not improve from 0.82600\n",
            "Epoch 30/50\n",
            "Learning rate:  0.001\n",
            "391/391 [==============================] - 48s 122ms/step - loss: 0.4752 - acc: 0.8870 - val_loss: 0.8009 - val_acc: 0.8019\n",
            "\n",
            "Epoch 00030: val_acc did not improve from 0.82600\n",
            "Epoch 31/50\n",
            "Learning rate:  0.001\n",
            "391/391 [==============================] - 48s 124ms/step - loss: 0.4661 - acc: 0.8913 - val_loss: 0.7784 - val_acc: 0.8130\n",
            "\n",
            "Epoch 00031: val_acc did not improve from 0.82600\n",
            "Epoch 32/50\n",
            "Learning rate:  0.0001\n",
            "391/391 [==============================] - 48s 124ms/step - loss: 0.3963 - acc: 0.9168 - val_loss: 0.5125 - val_acc: 0.8800\n",
            "\n",
            "Epoch 00032: val_acc improved from 0.82600 to 0.88000, saving model to /content/saved_models/cifar10_ResNet20v1_model.032.h5\n",
            "Epoch 33/50\n",
            "Learning rate:  0.0001\n",
            "391/391 [==============================] - 48s 123ms/step - loss: 0.3664 - acc: 0.9265 - val_loss: 0.5087 - val_acc: 0.8809\n",
            "\n",
            "Epoch 00033: val_acc improved from 0.88000 to 0.88090, saving model to /content/saved_models/cifar10_ResNet20v1_model.033.h5\n",
            "Epoch 34/50\n",
            "Learning rate:  0.0001\n",
            "391/391 [==============================] - 48s 124ms/step - loss: 0.3552 - acc: 0.9289 - val_loss: 0.5102 - val_acc: 0.8802\n",
            "\n",
            "Epoch 00034: val_acc did not improve from 0.88090\n",
            "Epoch 35/50\n",
            "Learning rate:  0.0001\n",
            "391/391 [==============================] - 48s 123ms/step - loss: 0.3490 - acc: 0.9327 - val_loss: 0.5042 - val_acc: 0.8830\n",
            "\n",
            "Epoch 00035: val_acc improved from 0.88090 to 0.88300, saving model to /content/saved_models/cifar10_ResNet20v1_model.035.h5\n",
            "Epoch 36/50\n",
            "Learning rate:  0.0001\n",
            "391/391 [==============================] - 48s 123ms/step - loss: 0.3421 - acc: 0.9336 - val_loss: 0.5211 - val_acc: 0.8815\n",
            "\n",
            "Epoch 00036: val_acc did not improve from 0.88300\n",
            "Epoch 37/50\n",
            "Learning rate:  1e-05\n",
            "391/391 [==============================] - 49s 125ms/step - loss: 0.3338 - acc: 0.9360 - val_loss: 0.5019 - val_acc: 0.8858\n",
            "\n",
            "Epoch 00037: val_acc improved from 0.88300 to 0.88580, saving model to /content/saved_models/cifar10_ResNet20v1_model.037.h5\n",
            "Epoch 38/50\n",
            "Learning rate:  1e-05\n",
            "391/391 [==============================] - 48s 124ms/step - loss: 0.3275 - acc: 0.9387 - val_loss: 0.5007 - val_acc: 0.8867\n",
            "\n",
            "Epoch 00038: val_acc improved from 0.88580 to 0.88670, saving model to /content/saved_models/cifar10_ResNet20v1_model.038.h5\n",
            "Epoch 39/50\n",
            "Learning rate:  1e-05\n",
            "391/391 [==============================] - 48s 123ms/step - loss: 0.3284 - acc: 0.9387 - val_loss: 0.4993 - val_acc: 0.8873\n",
            "\n",
            "Epoch 00039: val_acc improved from 0.88670 to 0.88730, saving model to /content/saved_models/cifar10_ResNet20v1_model.039.h5\n",
            "Epoch 40/50\n",
            "Learning rate:  1e-05\n",
            "391/391 [==============================] - 48s 124ms/step - loss: 0.3294 - acc: 0.9384 - val_loss: 0.5005 - val_acc: 0.8869\n",
            "\n",
            "Epoch 00040: val_acc did not improve from 0.88730\n",
            "Epoch 41/50\n",
            "Learning rate:  1e-05\n",
            "391/391 [==============================] - 48s 124ms/step - loss: 0.3284 - acc: 0.9386 - val_loss: 0.5008 - val_acc: 0.8874\n",
            "\n",
            "Epoch 00041: val_acc improved from 0.88730 to 0.88740, saving model to /content/saved_models/cifar10_ResNet20v1_model.041.h5\n",
            "Epoch 42/50\n",
            "Learning rate:  1e-06\n",
            "391/391 [==============================] - 48s 123ms/step - loss: 0.3262 - acc: 0.9392 - val_loss: 0.4987 - val_acc: 0.8881\n",
            "\n",
            "Epoch 00042: val_acc improved from 0.88740 to 0.88810, saving model to /content/saved_models/cifar10_ResNet20v1_model.042.h5\n",
            "Epoch 43/50\n",
            "Learning rate:  1e-06\n",
            "391/391 [==============================] - 49s 124ms/step - loss: 0.3252 - acc: 0.9389 - val_loss: 0.4993 - val_acc: 0.8877\n",
            "\n",
            "Epoch 00043: val_acc did not improve from 0.88810\n",
            "Epoch 44/50\n",
            "Learning rate:  1e-06\n",
            "391/391 [==============================] - 48s 123ms/step - loss: 0.3287 - acc: 0.9377 - val_loss: 0.4999 - val_acc: 0.8878\n",
            "\n",
            "Epoch 00044: val_acc did not improve from 0.88810\n",
            "Epoch 45/50\n",
            "Learning rate:  1e-06\n",
            "391/391 [==============================] - 48s 123ms/step - loss: 0.3294 - acc: 0.9382 - val_loss: 0.4985 - val_acc: 0.8881\n",
            "\n",
            "Epoch 00045: val_acc did not improve from 0.88810\n",
            "Epoch 46/50\n",
            "Learning rate:  1e-06\n",
            "391/391 [==============================] - 48s 122ms/step - loss: 0.3237 - acc: 0.9396 - val_loss: 0.4985 - val_acc: 0.8879\n",
            "\n",
            "Epoch 00046: val_acc did not improve from 0.88810\n",
            "Epoch 47/50\n",
            "Learning rate:  5e-07\n",
            "391/391 [==============================] - 48s 124ms/step - loss: 0.3264 - acc: 0.9388 - val_loss: 0.4988 - val_acc: 0.8881\n",
            "\n",
            "Epoch 00047: val_acc did not improve from 0.88810\n",
            "Epoch 48/50\n",
            "Learning rate:  5e-07\n",
            "391/391 [==============================] - 48s 123ms/step - loss: 0.3242 - acc: 0.9395 - val_loss: 0.4991 - val_acc: 0.8877\n",
            "\n",
            "Epoch 00048: val_acc did not improve from 0.88810\n",
            "Epoch 49/50\n",
            "Learning rate:  5e-07\n",
            "391/391 [==============================] - 48s 123ms/step - loss: 0.3260 - acc: 0.9387 - val_loss: 0.4981 - val_acc: 0.8879\n",
            "\n",
            "Epoch 00049: val_acc did not improve from 0.88810\n",
            "Epoch 50/50\n",
            "Learning rate:  5e-07\n",
            "391/391 [==============================] - 49s 124ms/step - loss: 0.3262 - acc: 0.9387 - val_loss: 0.4986 - val_acc: 0.8881\n",
            "\n",
            "Epoch 00050: val_acc did not improve from 0.88810\n",
            "10000/10000 [==============================] - 3s 332us/step\n",
            "Test loss: 0.4986430438995361\n",
            "Test accuracy: 0.8881\n"
          ],
          "name": "stdout"
        }
      ]
    },
    {
      "cell_type": "code",
      "metadata": {
        "id": "CBOJ2KLn0dTY",
        "colab_type": "code",
        "colab": {}
      },
      "source": [
        "from keras.models import load_model"
      ],
      "execution_count": 0,
      "outputs": []
    },
    {
      "cell_type": "code",
      "metadata": {
        "id": "0hwSstIQ0r8W",
        "colab_type": "code",
        "colab": {}
      },
      "source": [
        "model.save('model.h5')"
      ],
      "execution_count": 0,
      "outputs": []
    },
    {
      "cell_type": "code",
      "metadata": {
        "id": "d2XFe1Dw0-v3",
        "colab_type": "code",
        "colab": {}
      },
      "source": [
        "model = load_model('model.h5')\n"
      ],
      "execution_count": 0,
      "outputs": []
    },
    {
      "cell_type": "code",
      "metadata": {
        "id": "HB5e2agXUksO",
        "colab_type": "code",
        "colab": {}
      },
      "source": [
        "from keras.applications.vgg16 import VGG16, preprocess_input, decode_predictions\n",
        "from keras.preprocessing import image\n",
        "import numpy as np\n",
        "import cv2"
      ],
      "execution_count": 0,
      "outputs": []
    },
    {
      "cell_type": "code",
      "metadata": {
        "id": "W8JXhWCbZ2m0",
        "colab_type": "code",
        "colab": {
          "base_uri": "https://localhost:8080/",
          "height": 187
        },
        "outputId": "4c57d58f-10bf-4d3a-9d54-2d941607093c"
      },
      "source": [
        "cls = ['cat','dog','car','ship','airplane','bird','deer','frog','horse','truck']\n",
        "for i in range(10):\n",
        "  print(cls[i])"
      ],
      "execution_count": 79,
      "outputs": [
        {
          "output_type": "stream",
          "text": [
            "cat\n",
            "dog\n",
            "car\n",
            "ship\n",
            "airplane\n",
            "bird\n",
            "deer\n",
            "frog\n",
            "horse\n",
            "truck\n"
          ],
          "name": "stdout"
        }
      ]
    },
    {
      "cell_type": "code",
      "metadata": {
        "id": "tXAdt-8r6bVN",
        "colab_type": "code",
        "colab": {
          "base_uri": "https://localhost:8080/",
          "height": 1000
        },
        "outputId": "670c8dd4-1451-45ef-80b1-122a0526f57e"
      },
      "source": [
        "for i in range(10):\n",
        "  img = io.imread(\"/content/image/\"+cls[i]+\".jpg\")\n",
        "  img = cv2.resize(img, dsize=(32, 32), interpolation=cv2.INTER_CUBIC)\n",
        "  x = image.img_to_array(img)\n",
        "  x = np.expand_dims(x, axis=0)\n",
        "  x = preprocess_input(x)\n",
        "  x.shape\n",
        "  preds = model.predict(x)\n",
        "  class_idx = np.argmax(preds[0])\n",
        "  print(class_idx)\n",
        "  class_output = model.output[:, class_idx]\n",
        "  last_conv_layer = model.get_layer(\"conv2d_42\")\n",
        "  grads = K.gradients(class_output, last_conv_layer.output)[0]\n",
        "  print(grads.shape)\n",
        "  pooled_grads = K.mean(grads, axis=(0, 1, 2))\n",
        "  print(pooled_grads.shape)\n",
        "  iterate = K.function([model.input], [pooled_grads, last_conv_layer.output[0]])\n",
        "\n",
        "  pooled_grads_value, conv_layer_output_value = iterate([x])\n",
        "\n",
        "  for i in range(64):\n",
        "    conv_layer_output_value[:, :, i] *= pooled_grads_value[i]\n",
        "  heatmap = np.mean(conv_layer_output_value, axis = -1)\n",
        "  print(conv_layer_output_value.shape)\n",
        "  print(heatmap.shape)\n",
        "  heatmap = np.maximum(heatmap, 0)\n",
        "  heatmap /= np.max(heatmap)\n",
        "  heatmap = cv2.resize(heatmap, (img.shape[1], img.shape[0]))\n",
        "  heatmap = np.uint8(255 * heatmap)\n",
        "  heatmap = cv2.applyColorMap(heatmap, cv2.COLORMAP_JET)\n",
        "  superimposed_img = cv2.addWeighted(img, 0.5, heatmap, 0.5, 0)\n",
        "  from google.colab.patches import cv2_imshow\n",
        "  cv2_imshow( img)\n",
        "  cv2_imshow(superimposed_img)"
      ],
      "execution_count": 80,
      "outputs": [
        {
          "output_type": "stream",
          "text": [
            "2\n",
            "(?, 8, 8, 64)\n",
            "(64,)\n",
            "(8, 8, 64)\n",
            "(8, 8)\n"
          ],
          "name": "stdout"
        },
        {
          "output_type": "display_data",
          "data": {
            "image/png": "[encoded data removed]",
            "text/plain": [
              "<PIL.Image.Image image mode=RGB size=32x32 at 0x7F5581AA6860>"
            ]
          },
          "metadata": {
            "tags": []
          }
        },
        {
          "output_type": "display_data",
          "data": {
            "image/png": "[encoded data removed]",
            "text/plain": [
              "<PIL.Image.Image image mode=RGB size=32x32 at 0x7F5581AA6160>"
            ]
          },
          "metadata": {
            "tags": []
          }
        },
        {
          "output_type": "stream",
          "text": [
            "2\n",
            "(?, 8, 8, 64)\n",
            "(64,)\n",
            "(8, 8, 64)\n",
            "(8, 8)\n"
          ],
          "name": "stdout"
        },
        {
          "output_type": "stream",
          "text": [
            "/usr/local/lib/python3.6/dist-packages/ipykernel_launcher.py:27: RuntimeWarning: invalid value encountered in true_divide\n"
          ],
          "name": "stderr"
        },
        {
          "output_type": "display_data",
          "data": {
            "image/png": "[encoded data removed]",
            "text/plain": [
              "<PIL.Image.Image image mode=RGB size=32x32 at 0x7F5581A481D0>"
            ]
          },
          "metadata": {
            "tags": []
          }
        },
        {
          "output_type": "display_data",
          "data": {
            "image/png": "[encoded data removed]",
            "text/plain": [
              "<PIL.Image.Image image mode=RGB size=32x32 at 0x7F5581A4E748>"
            ]
          },
          "metadata": {
            "tags": []
          }
        },
        {
          "output_type": "stream",
          "text": [
            "2\n",
            "(?, 8, 8, 64)\n",
            "(64,)\n",
            "(8, 8, 64)\n",
            "(8, 8)\n"
          ],
          "name": "stdout"
        },
        {
          "output_type": "stream",
          "text": [
            "/usr/local/lib/python3.6/dist-packages/ipykernel_launcher.py:27: RuntimeWarning: invalid value encountered in true_divide\n"
          ],
          "name": "stderr"
        },
        {
          "output_type": "display_data",
          "data": {
            "image/png": "[encoded data removed]",
            "text/plain": [
              "<PIL.Image.Image image mode=RGB size=32x32 at 0x7F55819F02E8>"
            ]
          },
          "metadata": {
            "tags": []
          }
        },
        {
          "output_type": "display_data",
          "data": {
            "image/png": "[encoded data removed]",
            "text/plain": [
              "<PIL.Image.Image image mode=RGB size=32x32 at 0x7F55819F86A0>"
            ]
          },
          "metadata": {
            "tags": []
          }
        },
        {
          "output_type": "stream",
          "text": [
            "8\n",
            "(?, 8, 8, 64)\n",
            "(64,)\n",
            "(8, 8, 64)\n",
            "(8, 8)\n"
          ],
          "name": "stdout"
        },
        {
          "output_type": "stream",
          "text": [
            "/usr/local/lib/python3.6/dist-packages/ipykernel_launcher.py:27: RuntimeWarning: invalid value encountered in true_divide\n"
          ],
          "name": "stderr"
        },
        {
          "output_type": "display_data",
          "data": {
            "image/png": "[encoded data removed]",
            "text/plain": [
              "<PIL.Image.Image image mode=RGB size=32x32 at 0x7F55819FD4A8>"
            ]
          },
          "metadata": {
            "tags": []
          }
        },
        {
          "output_type": "display_data",
          "data": {
            "image/png": "[encoded data removed]",
            "text/plain": [
              "<PIL.Image.Image image mode=RGB size=32x32 at 0x7F5581A19EF0>"
            ]
          },
          "metadata": {
            "tags": []
          }
        },
        {
          "output_type": "stream",
          "text": [
            "2\n",
            "(?, 8, 8, 64)\n",
            "(64,)\n",
            "(8, 8, 64)\n",
            "(8, 8)\n"
          ],
          "name": "stdout"
        },
        {
          "output_type": "stream",
          "text": [
            "/usr/local/lib/python3.6/dist-packages/ipykernel_launcher.py:27: RuntimeWarning: invalid value encountered in true_divide\n"
          ],
          "name": "stderr"
        },
        {
          "output_type": "display_data",
          "data": {
            "image/png": "[encoded data removed]",
            "text/plain": [
              "<PIL.Image.Image image mode=RGB size=32x32 at 0x7F55819C1DA0>"
            ]
          },
          "metadata": {
            "tags": []
          }
        },
        {
          "output_type": "display_data",
          "data": {
            "image/png": "[encoded data removed]",
            "text/plain": [
              "<PIL.Image.Image image mode=RGB size=32x32 at 0x7F55819F0E80>"
            ]
          },
          "metadata": {
            "tags": []
          }
        },
        {
          "output_type": "stream",
          "text": [
            "0\n",
            "(?, 8, 8, 64)\n",
            "(64,)\n",
            "(8, 8, 64)\n",
            "(8, 8)\n"
          ],
          "name": "stdout"
        },
        {
          "output_type": "display_data",
          "data": {
            "image/png": "[encoded data removed]",
            "text/plain": [
              "<PIL.Image.Image image mode=RGB size=32x32 at 0x7F55819E8D30>"
            ]
          },
          "metadata": {
            "tags": []
          }
        },
        {
          "output_type": "display_data",
          "data": {
            "image/png": "[encoded data removed]",
            "text/plain": [
              "<PIL.Image.Image image mode=RGB size=32x32 at 0x7F55819CD470>"
            ]
          },
          "metadata": {
            "tags": []
          }
        },
        {
          "output_type": "stream",
          "text": [
            "8\n",
            "(?, 8, 8, 64)\n",
            "(64,)\n",
            "(8, 8, 64)\n",
            "(8, 8)\n"
          ],
          "name": "stdout"
        },
        {
          "output_type": "display_data",
          "data": {
            "image/png": "[encoded data removed]",
            "text/plain": [
              "<PIL.Image.Image image mode=RGB size=32x32 at 0x7F5581994C88>"
            ]
          },
          "metadata": {
            "tags": []
          }
        },
        {
          "output_type": "display_data",
          "data": {
            "image/png": "[encoded data removed]",
            "text/plain": [
              "<PIL.Image.Image image mode=RGB size=32x32 at 0x7F5581994DD8>"
            ]
          },
          "metadata": {
            "tags": []
          }
        },
        {
          "output_type": "stream",
          "text": [
            "8\n",
            "(?, 8, 8, 64)\n",
            "(64,)\n",
            "(8, 8, 64)\n",
            "(8, 8)\n"
          ],
          "name": "stdout"
        },
        {
          "output_type": "display_data",
          "data": {
            "image/png": "[encoded data removed]",
            "text/plain": [
              "<PIL.Image.Image image mode=RGB size=32x32 at 0x7F558193BC50>"
            ]
          },
          "metadata": {
            "tags": []
          }
        },
        {
          "output_type": "display_data",
          "data": {
            "image/png": "[encoded data removed]",
            "text/plain": [
              "<PIL.Image.Image image mode=RGB size=32x32 at 0x7F558193BF98>"
            ]
          },
          "metadata": {
            "tags": []
          }
        },
        {
          "output_type": "stream",
          "text": [
            "8\n",
            "(?, 8, 8, 64)\n",
            "(64,)\n",
            "(8, 8, 64)\n",
            "(8, 8)\n"
          ],
          "name": "stdout"
        },
        {
          "output_type": "display_data",
          "data": {
            "image/png": "[encoded data removed]",
            "text/plain": [
              "<PIL.Image.Image image mode=RGB size=32x32 at 0x7F5581948240>"
            ]
          },
          "metadata": {
            "tags": []
          }
        },
        {
          "output_type": "display_data",
          "data": {
            "image/png": "[encoded data removed]",
            "text/plain": [
              "<PIL.Image.Image image mode=RGB size=32x32 at 0x7F558195DE10>"
            ]
          },
          "metadata": {
            "tags": []
          }
        },
        {
          "output_type": "stream",
          "text": [
            "2\n",
            "(?, 8, 8, 64)\n",
            "(64,)\n",
            "(8, 8, 64)\n",
            "(8, 8)\n"
          ],
          "name": "stdout"
        },
        {
          "output_type": "stream",
          "text": [
            "/usr/local/lib/python3.6/dist-packages/ipykernel_launcher.py:27: RuntimeWarning: invalid value encountered in true_divide\n"
          ],
          "name": "stderr"
        },
        {
          "output_type": "display_data",
          "data": {
            "image/png": "[encoded data removed]",
            "text/plain": [
              "<PIL.Image.Image image mode=RGB size=32x32 at 0x7F558190DEB8>"
            ]
          },
          "metadata": {
            "tags": []
          }
        },
        {
          "output_type": "display_data",
          "data": {
            "image/png": "[encoded data removed]",
            "text/plain": [
              "<PIL.Image.Image image mode=RGB size=32x32 at 0x7F5581912438>"
            ]
          },
          "metadata": {
            "tags": []
          }
        }
      ]
    },
    {
      "cell_type": "code",
      "metadata": {
        "id": "_5DjkFPK73UN",
        "colab_type": "code",
        "colab": {}
      },
      "source": [
        ""
      ],
      "execution_count": 0,
      "outputs": []
    }
  ]
}